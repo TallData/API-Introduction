{
 "cells": [
  {
   "cell_type": "code",
   "execution_count": 44,
   "id": "33aac55f-9b13-4be4-800d-49ecdfd20413",
   "metadata": {},
   "outputs": [
    {
     "name": "stdout",
     "output_type": "stream",
     "text": [
      "https://api.openweathermap.org/data/3.0/onecall?lat=35.2271&lon=-80.8431&appid=YOUR_API_KEY\n"
     ]
    }
   ],
   "source": [
    "# Choose Your Endpoint (Menu Item):\n",
    "#First, you'll need to import the necessary libraries and define the API endpoint.\n",
    "\n",
    "# Replace 'YOUR_API_KEY' with your actual API key from OpenWeatherMap\n",
    "api_key = 'YOUR_API_KEY'\n",
    "\n",
    "# Define the latitude and longitude for Charlotte, NC\n",
    "lat = '35.2271'\n",
    "lon = '-80.8431'\n",
    "\n",
    "# Define the onecall API endpoint for current weather and forecast\n",
    "endpoint = f'https://api.openweathermap.org/data/3.0/onecall?lat={lat}&lon={lon}&appid={api_key}'\n",
    "\n",
    "print(endpoint)"
   ]
  },
  {
   "cell_type": "code",
   "execution_count": 45,
   "id": "d1e5c6cd-506f-4ed3-97a0-e47f20ff3355",
   "metadata": {},
   "outputs": [
    {
     "name": "stdout",
     "output_type": "stream",
     "text": [
      "<Response [401]>\n"
     ]
    }
   ],
   "source": [
    "# Make a Request (Place Your Order):\n",
    "# Use the requests library to send a GET request to the API.\n",
    "\n",
    "response = requests.get(endpoint)\n",
    "print(response)"
   ]
  },
  {
   "cell_type": "code",
   "execution_count": 17,
   "id": "483725b0-7245-4e60-88c0-5fff6a1b248b",
   "metadata": {},
   "outputs": [],
   "source": [
    "# Add Any Special Requests (Query Parameters):\n",
    "# If you want specific information, you can add query parameters to the URL.\n",
    "\n",
    "#params = {'date': 'tomorrow'}\n",
    "#response = requests.get(endpoint, params=params)"
   ]
  },
  {
   "cell_type": "code",
   "execution_count": 41,
   "id": "bf5d5b39-e954-4737-9fdd-4159e753244f",
   "metadata": {},
   "outputs": [
    {
     "name": "stdout",
     "output_type": "stream",
     "text": [
      "Successfully pulled weather data.\n"
     ]
    }
   ],
   "source": [
    "# Kitchen Prepares Your Order (Server Processes Request):\n",
    "# Check the response status code to make sure the request was successful.\n",
    "\n",
    "# Check the response status code\n",
    "if response.status_code == 200:\n",
    "    weather_data = response.json()\n",
    "    print(\"Successfully pulled weather data.\")\n",
    "else:\n",
    "    print(\"Failed to get weather data.\")"
   ]
  },
  {
   "cell_type": "code",
   "execution_count": 19,
   "id": "b89287c9-6b45-4c29-9b73-949039ef91f2",
   "metadata": {},
   "outputs": [],
   "source": [
    "# Waiter Delivers Your Order (HTTP Response):\n",
    "# You can now access the weather data received in the response.\n",
    "\n",
    "#print(weather_data)"
   ]
  },
  {
   "cell_type": "code",
   "execution_count": 43,
   "id": "dfb5bd0c-1eb4-478a-b32a-58c000769716",
   "metadata": {},
   "outputs": [
    {
     "name": "stdout",
     "output_type": "stream",
     "text": [
      "Current Temperature in Charlotte, NC: 26.34°C\n",
      "Current Temperature in Charlotte, NC: 79.41°F\n"
     ]
    }
   ],
   "source": [
    "# Enjoy Your Order (Use the Data):\n",
    "# You can use the weather_data in your Python code for various purposes. For example, you might want to extract and display the temperature.\n",
    "\n",
    "temperature_in_kelvin = weather_data[\"current\"][\"temp\"]\n",
    "\n",
    "# Convert Kelvin to Celsius\n",
    "temperature_in_celsius = temperature_in_kelvin - 273.15\n",
    "print(f\"Current Temperature in Charlotte, NC: {temperature_in_celsius:.2f}°C\")\n",
    "\n",
    "# Convert Celsius to Fahrenheit\n",
    "temperature_in_fahrenheit = (temperature_in_celsius * 9/5) + 32\n",
    "print(f\"Current Temperature in Charlotte, NC: {temperature_in_fahrenheit:.2f}°F\")"
   ]
  },
  {
   "cell_type": "code",
   "execution_count": null,
   "id": "ca13cb20-f521-40c0-a922-a4a3313299bf",
   "metadata": {},
   "outputs": [],
   "source": []
  }
 ],
 "metadata": {
  "kernelspec": {
   "display_name": "Python 3 (ipykernel)",
   "language": "python",
   "name": "python3"
  },
  "language_info": {
   "codemirror_mode": {
    "name": "ipython",
    "version": 3
   },
   "file_extension": ".py",
   "mimetype": "text/x-python",
   "name": "python",
   "nbconvert_exporter": "python",
   "pygments_lexer": "ipython3",
   "version": "3.11.5"
  }
 },
 "nbformat": 4,
 "nbformat_minor": 5
}
